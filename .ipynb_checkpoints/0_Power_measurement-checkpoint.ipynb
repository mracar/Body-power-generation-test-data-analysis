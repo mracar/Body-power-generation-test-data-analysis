{
 "cells": [
  {
   "cell_type": "markdown",
   "id": "7358bb5a",
   "metadata": {},
   "source": [
    "# Power measurement with ball test\n",
    "\n",
    "Data analysis of sensor data collected during a body power generation test for quantification of athlete performance.\n",
    "\n",
    "The speed is calculated as the difference in Euclidean distance over time.\n",
    "The work is calculated as the cumulative kinetic energy.\n",
    "The power is measured as the cumulative kinetic energy of ball dropes over time (sum kinetic energies at impact). "
   ]
  },
  {
   "cell_type": "markdown",
   "id": "0bed35dc",
   "metadata": {},
   "source": [
    "### Importing required packages"
   ]
  },
  {
   "cell_type": "code",
   "execution_count": 1,
   "id": "6fe18dc3",
   "metadata": {},
   "outputs": [
    {
     "data": {
      "application/javascript": [
       "\n",
       "            setTimeout(function() {\n",
       "                var nbb_cell_id = 1;\n",
       "                var nbb_unformatted_code = \"import os\\nimport pandas as pd\\nimport numpy as np\\nimport seaborn as sns\\nimport matplotlib.pyplot as plt\\n\\nsns.set_style(\\\"white\\\")\\n\\n%load_ext nb_black\";\n",
       "                var nbb_formatted_code = \"import os\\nimport pandas as pd\\nimport numpy as np\\nimport seaborn as sns\\nimport matplotlib.pyplot as plt\\n\\nsns.set_style(\\\"white\\\")\\n\\n%load_ext nb_black\";\n",
       "                var nbb_cells = Jupyter.notebook.get_cells();\n",
       "                for (var i = 0; i < nbb_cells.length; ++i) {\n",
       "                    if (nbb_cells[i].input_prompt_number == nbb_cell_id) {\n",
       "                        if (nbb_cells[i].get_text() == nbb_unformatted_code) {\n",
       "                             nbb_cells[i].set_text(nbb_formatted_code);\n",
       "                        }\n",
       "                        break;\n",
       "                    }\n",
       "                }\n",
       "            }, 500);\n",
       "            "
      ],
      "text/plain": [
       "<IPython.core.display.Javascript object>"
      ]
     },
     "metadata": {},
     "output_type": "display_data"
    }
   ],
   "source": [
    "import os\n",
    "import pandas as pd\n",
    "import numpy as np\n",
    "import seaborn as sns\n",
    "import matplotlib.pyplot as plt\n",
    "\n",
    "sns.set_style(\"white\")\n",
    "\n",
    "%load_ext nb_black"
   ]
  },
  {
   "cell_type": "markdown",
   "id": "48fcf637",
   "metadata": {},
   "source": [
    "### Function for calculating the Euclidean distance, speed and kinetic energy in within the defined time interval\n",
    "#### Defining the mass of the ball in kg"
   ]
  },
  {
   "cell_type": "code",
   "execution_count": 2,
   "id": "0719b126",
   "metadata": {},
   "outputs": [
    {
     "data": {
      "application/javascript": [
       "\n",
       "            setTimeout(function() {\n",
       "                var nbb_cell_id = 2;\n",
       "                var nbb_unformatted_code = \"mass = 6\";\n",
       "                var nbb_formatted_code = \"mass = 6\";\n",
       "                var nbb_cells = Jupyter.notebook.get_cells();\n",
       "                for (var i = 0; i < nbb_cells.length; ++i) {\n",
       "                    if (nbb_cells[i].input_prompt_number == nbb_cell_id) {\n",
       "                        if (nbb_cells[i].get_text() == nbb_unformatted_code) {\n",
       "                             nbb_cells[i].set_text(nbb_formatted_code);\n",
       "                        }\n",
       "                        break;\n",
       "                    }\n",
       "                }\n",
       "            }, 500);\n",
       "            "
      ],
      "text/plain": [
       "<IPython.core.display.Javascript object>"
      ]
     },
     "metadata": {},
     "output_type": "display_data"
    }
   ],
   "source": [
    "mass = 6"
   ]
  },
  {
   "cell_type": "markdown",
   "id": "45d4d9cd",
   "metadata": {},
   "source": [
    "#### Defining the function for calculating the distance, speed and kinetic energy"
   ]
  },
  {
   "cell_type": "code",
   "execution_count": 3,
   "id": "8c1acf81",
   "metadata": {},
   "outputs": [
    {
     "data": {
      "application/javascript": [
       "\n",
       "            setTimeout(function() {\n",
       "                var nbb_cell_id = 3;\n",
       "                var nbb_unformatted_code = \"def speedAndEnergy(df, mass=6, interval=1):\\n    df_1 = pd.DataFrame()\\n    distance = []\\n    speed = []\\n    kin_energy = []\\n    for i, row in enumerate(df.values):\\n        if i < interval:\\n            dist = 0\\n            sp = 0\\n            e_k = 0\\n            speed.append(sp)\\n            distance.append(dist)\\n            kin_energy.append(e_k)\\n        else:\\n            delta_x = df[\\\"ax\\\"].loc[i] - df[\\\"ax\\\"].loc[i - interval]\\n            delta_y = df[\\\"ay\\\"].loc[i] - df[\\\"ay\\\"].loc[i - interval]\\n            delta_z = df[\\\"az\\\"].loc[i] - df[\\\"az\\\"].loc[i - interval]\\n\\n            # Calculating the distance between two points\\n            dist = np.sqrt(delta_x ** 2 + delta_y ** 2 + delta_z ** 2)\\n\\n            # Converting to metre\\n            dist = dist / 10\\n\\n            # Calculating the speed\\n            sp = dist / (df[\\\"Time\\\"].loc[i] - df[\\\"Time\\\"].loc[i - interval])\\n\\n            # Calculating the kinetic energy\\n            # e_k = mass * sp**2 / 2\\n\\n            # Appending the results\\n            kin_energy.append(e_k)\\n            speed.append(sp)\\n            distance.append(dist)\\n\\n    df_1[\\\"time\\\"] = df[\\\"Time\\\"]\\n    df_1[\\\"distance\\\"] = distance\\n    df_1[\\\"speed\\\"] = speed\\n    df_1[\\\"speed\\\"] = df_1.speed.rolling(7).mean()\\n    df_1.dropna(inplace=True)\\n    # df_1['kin_energy'] = kin_energy\\n    df_1[\\\"kin_energy\\\"] = mass * df_1.speed ** 2 / 2\\n    return df_1\";\n",
       "                var nbb_formatted_code = \"def speedAndEnergy(df, mass=6, interval=1):\\n    df_1 = pd.DataFrame()\\n    distance = []\\n    speed = []\\n    kin_energy = []\\n    for i, row in enumerate(df.values):\\n        if i < interval:\\n            dist = 0\\n            sp = 0\\n            e_k = 0\\n            speed.append(sp)\\n            distance.append(dist)\\n            kin_energy.append(e_k)\\n        else:\\n            delta_x = df[\\\"ax\\\"].loc[i] - df[\\\"ax\\\"].loc[i - interval]\\n            delta_y = df[\\\"ay\\\"].loc[i] - df[\\\"ay\\\"].loc[i - interval]\\n            delta_z = df[\\\"az\\\"].loc[i] - df[\\\"az\\\"].loc[i - interval]\\n\\n            # Calculating the distance between two points\\n            dist = np.sqrt(delta_x ** 2 + delta_y ** 2 + delta_z ** 2)\\n\\n            # Converting to metre\\n            dist = dist / 10\\n\\n            # Calculating the speed\\n            sp = dist / (df[\\\"Time\\\"].loc[i] - df[\\\"Time\\\"].loc[i - interval])\\n\\n            # Calculating the kinetic energy\\n            # e_k = mass * sp**2 / 2\\n\\n            # Appending the results\\n            kin_energy.append(e_k)\\n            speed.append(sp)\\n            distance.append(dist)\\n\\n    df_1[\\\"time\\\"] = df[\\\"Time\\\"]\\n    df_1[\\\"distance\\\"] = distance\\n    df_1[\\\"speed\\\"] = speed\\n    df_1[\\\"speed\\\"] = df_1.speed.rolling(7).mean()\\n    df_1.dropna(inplace=True)\\n    # df_1['kin_energy'] = kin_energy\\n    df_1[\\\"kin_energy\\\"] = mass * df_1.speed ** 2 / 2\\n    return df_1\";\n",
       "                var nbb_cells = Jupyter.notebook.get_cells();\n",
       "                for (var i = 0; i < nbb_cells.length; ++i) {\n",
       "                    if (nbb_cells[i].input_prompt_number == nbb_cell_id) {\n",
       "                        if (nbb_cells[i].get_text() == nbb_unformatted_code) {\n",
       "                             nbb_cells[i].set_text(nbb_formatted_code);\n",
       "                        }\n",
       "                        break;\n",
       "                    }\n",
       "                }\n",
       "            }, 500);\n",
       "            "
      ],
      "text/plain": [
       "<IPython.core.display.Javascript object>"
      ]
     },
     "metadata": {},
     "output_type": "display_data"
    }
   ],
   "source": [
    "def speedAndEnergy(df, mass=6, interval=1):\n",
    "    df_1 = pd.DataFrame()\n",
    "    distance = []\n",
    "    speed = []\n",
    "    kin_energy = []\n",
    "    for i, row in enumerate(df.values):\n",
    "        if i < interval:\n",
    "            dist = 0\n",
    "            sp = 0\n",
    "            e_k = 0\n",
    "            speed.append(sp)\n",
    "            distance.append(dist)\n",
    "            kin_energy.append(e_k)\n",
    "        else:\n",
    "            delta_x = df[\"ax\"].loc[i] - df[\"ax\"].loc[i - interval]\n",
    "            delta_y = df[\"ay\"].loc[i] - df[\"ay\"].loc[i - interval]\n",
    "            delta_z = df[\"az\"].loc[i] - df[\"az\"].loc[i - interval]\n",
    "\n",
    "            # Calculating the distance between two points\n",
    "            dist = np.sqrt(delta_x ** 2 + delta_y ** 2 + delta_z ** 2)\n",
    "\n",
    "            # Converting to metre\n",
    "            dist = dist / 10\n",
    "\n",
    "            # Calculating the speed\n",
    "            sp = dist / (df[\"Time\"].loc[i] - df[\"Time\"].loc[i - interval])\n",
    "\n",
    "            # Calculating the kinetic energy\n",
    "            # e_k = mass * sp**2 / 2\n",
    "\n",
    "            # Appending the results\n",
    "            kin_energy.append(e_k)\n",
    "            speed.append(sp)\n",
    "            distance.append(dist)\n",
    "\n",
    "    df_1[\"time\"] = df[\"Time\"]\n",
    "    df_1[\"distance\"] = distance\n",
    "    df_1[\"speed\"] = speed\n",
    "    df_1[\"speed\"] = df_1.speed.rolling(7).mean()\n",
    "    df_1.dropna(inplace=True)\n",
    "    # df_1['kin_energy'] = kin_energy\n",
    "    df_1[\"kin_energy\"] = mass * df_1.speed ** 2 / 2\n",
    "    return df_1"
   ]
  },
  {
   "cell_type": "markdown",
   "id": "af9cc5df",
   "metadata": {},
   "source": [
    "#### Calculating the kinetic energy of impact , cumulative energy (work) and power over time"
   ]
  },
  {
   "cell_type": "code",
   "execution_count": 4,
   "id": "47a86323",
   "metadata": {},
   "outputs": [
    {
     "data": {
      "application/javascript": [
       "\n",
       "            setTimeout(function() {\n",
       "                var nbb_cell_id = 4;\n",
       "                var nbb_unformatted_code = \"def ballDropEnergy(df):\\n    max_energy = df.kin_energy.max()\\n    avg_energy = df.kin_energy.median()\\n    ball_drop = pd.DataFrame(columns=[\\\"time\\\", \\\"speed\\\", \\\"kin_energy\\\"])\\n\\n    time, speed, kin_energy = [], [], []\\n    results = []\\n    curent_max = 0\\n    count = 0\\n    for index, row in df.iterrows():\\n        # if row.kin_energy < 0.1 * max_energy:\\n        try:\\n            curent_max = np.max(kin_energy)\\n        except:\\n            curent_max = 0\\n        if row.kin_energy < 0.33 * curent_max:\\n            if kin_energy == []:\\n                count = 0\\n                pass\\n            elif row.kin_energy < 0.5 * np.max(kin_energy) and count > 30:\\n                # elif row.kin_energy >  0.2*np.mean(kin_energy):\\n\\n                for i, k in enumerate(kin_energy):\\n                    if k == np.max(kin_energy):\\n                        results.append([time[i], speed[i], kin_energy[i]])\\n                time, speed, kin_energy = [], [], []\\n                curent_max = 0\\n                count = 0\\n            else:\\n                count += 1\\n        else:\\n            time.append(row.time)\\n            speed.append(row.speed)\\n            kin_energy.append(row.kin_energy)\\n    ball_drop_max = pd.DataFrame(results, columns=[\\\"time\\\", \\\"speed\\\", \\\"kin_energy\\\"])\\n    ball_drop_max = ball_drop_max.loc[\\n        ball_drop_max.kin_energy > 0.15 * ball_drop_max.kin_energy.max()\\n    ]\\n    ball_drop_max = ball_drop_max.loc[\\n        ball_drop_max.kin_energy\\n        > -2 * ball_drop_max.kin_energy.std() + ball_drop_max.kin_energy.median()\\n    ]\\n\\n    df_results = pd.DataFrame()\\n    df_results[\\\"Time, s\\\"] = ball_drop_max.time\\n    df_results[\\\"Energy of impact, J\\\"] = ball_drop_max[\\\"kin_energy\\\"]\\n    df_results[\\\"Cumulative energy - work, J\\\"] = ball_drop_max[\\\"kin_energy\\\"].cumsum()\\n    df_results[\\\"Power, W\\\"] = (\\n        df_results[\\\"Cumulative energy - work, J\\\"] / df_results[\\\"Time, s\\\"]\\n    )\\n\\n    return df_results\";\n",
       "                var nbb_formatted_code = \"def ballDropEnergy(df):\\n    max_energy = df.kin_energy.max()\\n    avg_energy = df.kin_energy.median()\\n    ball_drop = pd.DataFrame(columns=[\\\"time\\\", \\\"speed\\\", \\\"kin_energy\\\"])\\n\\n    time, speed, kin_energy = [], [], []\\n    results = []\\n    curent_max = 0\\n    count = 0\\n    for index, row in df.iterrows():\\n        # if row.kin_energy < 0.1 * max_energy:\\n        try:\\n            curent_max = np.max(kin_energy)\\n        except:\\n            curent_max = 0\\n        if row.kin_energy < 0.33 * curent_max:\\n            if kin_energy == []:\\n                count = 0\\n                pass\\n            elif row.kin_energy < 0.5 * np.max(kin_energy) and count > 30:\\n                # elif row.kin_energy >  0.2*np.mean(kin_energy):\\n\\n                for i, k in enumerate(kin_energy):\\n                    if k == np.max(kin_energy):\\n                        results.append([time[i], speed[i], kin_energy[i]])\\n                time, speed, kin_energy = [], [], []\\n                curent_max = 0\\n                count = 0\\n            else:\\n                count += 1\\n        else:\\n            time.append(row.time)\\n            speed.append(row.speed)\\n            kin_energy.append(row.kin_energy)\\n    ball_drop_max = pd.DataFrame(results, columns=[\\\"time\\\", \\\"speed\\\", \\\"kin_energy\\\"])\\n    ball_drop_max = ball_drop_max.loc[\\n        ball_drop_max.kin_energy > 0.15 * ball_drop_max.kin_energy.max()\\n    ]\\n    ball_drop_max = ball_drop_max.loc[\\n        ball_drop_max.kin_energy\\n        > -2 * ball_drop_max.kin_energy.std() + ball_drop_max.kin_energy.median()\\n    ]\\n\\n    df_results = pd.DataFrame()\\n    df_results[\\\"Time, s\\\"] = ball_drop_max.time\\n    df_results[\\\"Energy of impact, J\\\"] = ball_drop_max[\\\"kin_energy\\\"]\\n    df_results[\\\"Cumulative energy - work, J\\\"] = ball_drop_max[\\\"kin_energy\\\"].cumsum()\\n    df_results[\\\"Power, W\\\"] = (\\n        df_results[\\\"Cumulative energy - work, J\\\"] / df_results[\\\"Time, s\\\"]\\n    )\\n\\n    return df_results\";\n",
       "                var nbb_cells = Jupyter.notebook.get_cells();\n",
       "                for (var i = 0; i < nbb_cells.length; ++i) {\n",
       "                    if (nbb_cells[i].input_prompt_number == nbb_cell_id) {\n",
       "                        if (nbb_cells[i].get_text() == nbb_unformatted_code) {\n",
       "                             nbb_cells[i].set_text(nbb_formatted_code);\n",
       "                        }\n",
       "                        break;\n",
       "                    }\n",
       "                }\n",
       "            }, 500);\n",
       "            "
      ],
      "text/plain": [
       "<IPython.core.display.Javascript object>"
      ]
     },
     "metadata": {},
     "output_type": "display_data"
    }
   ],
   "source": [
    "def ballDropEnergy(df):\n",
    "    max_energy = df.kin_energy.max()\n",
    "    avg_energy = df.kin_energy.median()\n",
    "    ball_drop = pd.DataFrame(columns=[\"time\", \"speed\", \"kin_energy\"])\n",
    "\n",
    "    time, speed, kin_energy = [], [], []\n",
    "    results = []\n",
    "    curent_max = 0\n",
    "    count = 0\n",
    "    for index, row in df.iterrows():\n",
    "        # if row.kin_energy < 0.1 * max_energy:\n",
    "        try:\n",
    "            curent_max = np.max(kin_energy)\n",
    "        except:\n",
    "            curent_max = 0\n",
    "        if row.kin_energy < 0.33 * curent_max:\n",
    "            if kin_energy == []:\n",
    "                count = 0\n",
    "                pass\n",
    "            elif row.kin_energy < 0.5 * np.max(kin_energy) and count > 30:\n",
    "                # elif row.kin_energy >  0.2*np.mean(kin_energy):\n",
    "\n",
    "                for i, k in enumerate(kin_energy):\n",
    "                    if k == np.max(kin_energy):\n",
    "                        results.append([time[i], speed[i], kin_energy[i]])\n",
    "                time, speed, kin_energy = [], [], []\n",
    "                curent_max = 0\n",
    "                count = 0\n",
    "            else:\n",
    "                count += 1\n",
    "        else:\n",
    "            time.append(row.time)\n",
    "            speed.append(row.speed)\n",
    "            kin_energy.append(row.kin_energy)\n",
    "    ball_drop_max = pd.DataFrame(results, columns=[\"time\", \"speed\", \"kin_energy\"])\n",
    "    ball_drop_max = ball_drop_max.loc[\n",
    "        ball_drop_max.kin_energy > 0.15 * ball_drop_max.kin_energy.max()\n",
    "    ]\n",
    "    ball_drop_max = ball_drop_max.loc[\n",
    "        ball_drop_max.kin_energy\n",
    "        > -2 * ball_drop_max.kin_energy.std() + ball_drop_max.kin_energy.median()\n",
    "    ]\n",
    "\n",
    "    df_results = pd.DataFrame()\n",
    "    df_results[\"Time, s\"] = ball_drop_max.time\n",
    "    df_results[\"Energy of impact, J\"] = ball_drop_max[\"kin_energy\"]\n",
    "    df_results[\"Cumulative energy - work, J\"] = ball_drop_max[\"kin_energy\"].cumsum()\n",
    "    df_results[\"Power, W\"] = (\n",
    "        df_results[\"Cumulative energy - work, J\"] / df_results[\"Time, s\"]\n",
    "    )\n",
    "\n",
    "    return df_results"
   ]
  },
  {
   "cell_type": "markdown",
   "id": "7818c904",
   "metadata": {},
   "source": [
    "#### Removing duplicate peaks of kinetic energy"
   ]
  },
  {
   "cell_type": "code",
   "execution_count": 5,
   "id": "4212f2ac",
   "metadata": {},
   "outputs": [
    {
     "data": {
      "application/javascript": [
       "\n",
       "            setTimeout(function() {\n",
       "                var nbb_cell_id = 5;\n",
       "                var nbb_unformatted_code = \"def remove_duplicates(df_2):\\n    df_2 = df_2.reset_index(drop=True)\\n    df_2[\\\"time_diff\\\"] = df_2[\\\"Time, s\\\"].diff()\\n    mean = df_2.time_diff.mean()\\n    std = df_2.time_diff.std()\\n    for index, row in df_2.iterrows():\\n        if index < 1 or index == df_2.shape[0]:\\n            pass\\n        elif row.time_diff < (mean - 2 * std):\\n            time_diff_previous = row[\\\"time_diff\\\"]\\n            time_diff_next = df_2.loc[index + 1, \\\"time_diff\\\"]\\n            if time_diff_previous > time_diff_next:\\n                df_2.drop(\\n                    df_2[\\n                        df_2[\\\"Energy of impact, J\\\"]\\n                        == df_2[\\\"Energy of impact, J\\\"].iloc[[index, index + 1]].min()\\n                    ].index,\\n                    inplace=True,\\n                )\\n            elif time_diff_previous < time_diff_next:\\n                # df_2.drop(df_2[df_2['Energy of impact, J'] == df_2['Energy of impact, J'][index-1:index].min()].index, inplace=True)\\n                df_2.drop(\\n                    df_2[\\n                        df_2[\\\"Energy of impact, J\\\"]\\n                        == df_2[\\\"Energy of impact, J\\\"].iloc[[index - 1, index]].min()\\n                    ].index,\\n                    inplace=True,\\n                )\\n            else:\\n                print(\\\"All data is cleaned.\\\")\\n            break\\n    return df_2\";\n",
       "                var nbb_formatted_code = \"def remove_duplicates(df_2):\\n    df_2 = df_2.reset_index(drop=True)\\n    df_2[\\\"time_diff\\\"] = df_2[\\\"Time, s\\\"].diff()\\n    mean = df_2.time_diff.mean()\\n    std = df_2.time_diff.std()\\n    for index, row in df_2.iterrows():\\n        if index < 1 or index == df_2.shape[0]:\\n            pass\\n        elif row.time_diff < (mean - 2 * std):\\n            time_diff_previous = row[\\\"time_diff\\\"]\\n            time_diff_next = df_2.loc[index + 1, \\\"time_diff\\\"]\\n            if time_diff_previous > time_diff_next:\\n                df_2.drop(\\n                    df_2[\\n                        df_2[\\\"Energy of impact, J\\\"]\\n                        == df_2[\\\"Energy of impact, J\\\"].iloc[[index, index + 1]].min()\\n                    ].index,\\n                    inplace=True,\\n                )\\n            elif time_diff_previous < time_diff_next:\\n                # df_2.drop(df_2[df_2['Energy of impact, J'] == df_2['Energy of impact, J'][index-1:index].min()].index, inplace=True)\\n                df_2.drop(\\n                    df_2[\\n                        df_2[\\\"Energy of impact, J\\\"]\\n                        == df_2[\\\"Energy of impact, J\\\"].iloc[[index - 1, index]].min()\\n                    ].index,\\n                    inplace=True,\\n                )\\n            else:\\n                print(\\\"All data is cleaned.\\\")\\n            break\\n    return df_2\";\n",
       "                var nbb_cells = Jupyter.notebook.get_cells();\n",
       "                for (var i = 0; i < nbb_cells.length; ++i) {\n",
       "                    if (nbb_cells[i].input_prompt_number == nbb_cell_id) {\n",
       "                        if (nbb_cells[i].get_text() == nbb_unformatted_code) {\n",
       "                             nbb_cells[i].set_text(nbb_formatted_code);\n",
       "                        }\n",
       "                        break;\n",
       "                    }\n",
       "                }\n",
       "            }, 500);\n",
       "            "
      ],
      "text/plain": [
       "<IPython.core.display.Javascript object>"
      ]
     },
     "metadata": {},
     "output_type": "display_data"
    }
   ],
   "source": [
    "def remove_duplicates(df_2):\n",
    "    df_2 = df_2.reset_index(drop=True)\n",
    "    df_2[\"time_diff\"] = df_2[\"Time, s\"].diff()\n",
    "    mean = df_2.time_diff.mean()\n",
    "    std = df_2.time_diff.std()\n",
    "    for index, row in df_2.iterrows():\n",
    "        if index < 1 or index == df_2.shape[0]:\n",
    "            pass\n",
    "        elif row.time_diff < (mean - 2 * std):\n",
    "            time_diff_previous = row[\"time_diff\"]\n",
    "            time_diff_next = df_2.loc[index + 1, \"time_diff\"]\n",
    "            if time_diff_previous > time_diff_next:\n",
    "                df_2.drop(\n",
    "                    df_2[\n",
    "                        df_2[\"Energy of impact, J\"]\n",
    "                        == df_2[\"Energy of impact, J\"].iloc[[index, index + 1]].min()\n",
    "                    ].index,\n",
    "                    inplace=True,\n",
    "                )\n",
    "            elif time_diff_previous < time_diff_next:\n",
    "                # df_2.drop(df_2[df_2['Energy of impact, J'] == df_2['Energy of impact, J'][index-1:index].min()].index, inplace=True)\n",
    "                df_2.drop(\n",
    "                    df_2[\n",
    "                        df_2[\"Energy of impact, J\"]\n",
    "                        == df_2[\"Energy of impact, J\"].iloc[[index - 1, index]].min()\n",
    "                    ].index,\n",
    "                    inplace=True,\n",
    "                )\n",
    "            else:\n",
    "                print(\"All data is cleaned.\")\n",
    "            break\n",
    "    return df_2"
   ]
  },
  {
   "cell_type": "markdown",
   "id": "9c8ef844",
   "metadata": {},
   "source": [
    "#### Function for ploting the kinetic energy during impact"
   ]
  },
  {
   "cell_type": "code",
   "execution_count": 6,
   "id": "c19d7396",
   "metadata": {},
   "outputs": [
    {
     "data": {
      "application/javascript": [
       "\n",
       "            setTimeout(function() {\n",
       "                var nbb_cell_id = 6;\n",
       "                var nbb_unformatted_code = \"def plot_impact_energy(df, file):\\n    plt.clf()\\n    mean = df[\\\"Energy of impact, J\\\"].mean()\\n    std = df[\\\"Energy of impact, J\\\"].std()\\n    fig = sns.lineplot(data=df, x=\\\"Time, s\\\", y=\\\"Energy of impact, J\\\", marker=\\\"o\\\")\\n    fig.axhline(mean, color=\\\"black\\\", alpha=0.75, linestyle=\\\"--\\\", lw=1)\\n    fig.axhline(mean + std, color=\\\"black\\\", alpha=0.75, linestyle=\\\":\\\", lw=0.5)\\n    fig.axhline(mean - std, color=\\\"black\\\", alpha=0.75, linestyle=\\\":\\\", lw=0.5)\\n    plt.ylim(0)\\n    # Saving figures\\n    plt.savefig(file[:-4] + \\\"_impact_energy.png\\\", dpi=300)\";\n",
       "                var nbb_formatted_code = \"def plot_impact_energy(df, file):\\n    plt.clf()\\n    mean = df[\\\"Energy of impact, J\\\"].mean()\\n    std = df[\\\"Energy of impact, J\\\"].std()\\n    fig = sns.lineplot(data=df, x=\\\"Time, s\\\", y=\\\"Energy of impact, J\\\", marker=\\\"o\\\")\\n    fig.axhline(mean, color=\\\"black\\\", alpha=0.75, linestyle=\\\"--\\\", lw=1)\\n    fig.axhline(mean + std, color=\\\"black\\\", alpha=0.75, linestyle=\\\":\\\", lw=0.5)\\n    fig.axhline(mean - std, color=\\\"black\\\", alpha=0.75, linestyle=\\\":\\\", lw=0.5)\\n    plt.ylim(0)\\n    # Saving figures\\n    plt.savefig(file[:-4] + \\\"_impact_energy.png\\\", dpi=300)\";\n",
       "                var nbb_cells = Jupyter.notebook.get_cells();\n",
       "                for (var i = 0; i < nbb_cells.length; ++i) {\n",
       "                    if (nbb_cells[i].input_prompt_number == nbb_cell_id) {\n",
       "                        if (nbb_cells[i].get_text() == nbb_unformatted_code) {\n",
       "                             nbb_cells[i].set_text(nbb_formatted_code);\n",
       "                        }\n",
       "                        break;\n",
       "                    }\n",
       "                }\n",
       "            }, 500);\n",
       "            "
      ],
      "text/plain": [
       "<IPython.core.display.Javascript object>"
      ]
     },
     "metadata": {},
     "output_type": "display_data"
    }
   ],
   "source": [
    "def plot_impact_energy(df, file):\n",
    "    plt.clf()\n",
    "    mean = df[\"Energy of impact, J\"].mean()\n",
    "    std = df[\"Energy of impact, J\"].std()\n",
    "    fig = sns.lineplot(data=df, x=\"Time, s\", y=\"Energy of impact, J\", marker=\"o\")\n",
    "    fig.axhline(mean, color=\"black\", alpha=0.75, linestyle=\"--\", lw=1)\n",
    "    fig.axhline(mean + std, color=\"black\", alpha=0.75, linestyle=\":\", lw=0.5)\n",
    "    fig.axhline(mean - std, color=\"black\", alpha=0.75, linestyle=\":\", lw=0.5)\n",
    "    plt.ylim(0)\n",
    "    # Saving figures\n",
    "    plt.savefig(file[:-4] + \"_impact_energy.png\", dpi=300)"
   ]
  },
  {
   "cell_type": "markdown",
   "id": "3afe2dbc",
   "metadata": {},
   "source": [
    "#### Function for ploting the kinetic energy of each time the ball hits the floor"
   ]
  },
  {
   "cell_type": "code",
   "execution_count": 7,
   "id": "9736388f",
   "metadata": {},
   "outputs": [
    {
     "data": {
      "application/javascript": [
       "\n",
       "            setTimeout(function() {\n",
       "                var nbb_cell_id = 7;\n",
       "                var nbb_unformatted_code = \"def plot_ball_drops(df_1, df_2, file):\\n    plt.clf()\\n    fig = sns.lineplot(data=df_1, x=\\\"time\\\", y=\\\"kin_energy\\\")\\n    for i in df_2[\\\"Time, s\\\"]:\\n        fig.axvline(i, color=\\\"black\\\", alpha=0.75, linestyle=\\\"--\\\", lw=1)\\n    # Saving figures\\n    plt.savefig(file[:-4] + \\\"_ball_drops.png\\\", dpi=300)\";\n",
       "                var nbb_formatted_code = \"def plot_ball_drops(df_1, df_2, file):\\n    plt.clf()\\n    fig = sns.lineplot(data=df_1, x=\\\"time\\\", y=\\\"kin_energy\\\")\\n    for i in df_2[\\\"Time, s\\\"]:\\n        fig.axvline(i, color=\\\"black\\\", alpha=0.75, linestyle=\\\"--\\\", lw=1)\\n    # Saving figures\\n    plt.savefig(file[:-4] + \\\"_ball_drops.png\\\", dpi=300)\";\n",
       "                var nbb_cells = Jupyter.notebook.get_cells();\n",
       "                for (var i = 0; i < nbb_cells.length; ++i) {\n",
       "                    if (nbb_cells[i].input_prompt_number == nbb_cell_id) {\n",
       "                        if (nbb_cells[i].get_text() == nbb_unformatted_code) {\n",
       "                             nbb_cells[i].set_text(nbb_formatted_code);\n",
       "                        }\n",
       "                        break;\n",
       "                    }\n",
       "                }\n",
       "            }, 500);\n",
       "            "
      ],
      "text/plain": [
       "<IPython.core.display.Javascript object>"
      ]
     },
     "metadata": {},
     "output_type": "display_data"
    }
   ],
   "source": [
    "def plot_ball_drops(df_1, df_2, file):\n",
    "    plt.clf()\n",
    "    fig = sns.lineplot(data=df_1, x=\"time\", y=\"kin_energy\")\n",
    "    for i in df_2[\"Time, s\"]:\n",
    "        fig.axvline(i, color=\"black\", alpha=0.75, linestyle=\"--\", lw=1)\n",
    "    # Saving figures\n",
    "    plt.savefig(file[:-4] + \"_ball_drops.png\", dpi=300)"
   ]
  },
  {
   "cell_type": "markdown",
   "id": "812ca63a",
   "metadata": {},
   "source": [
    "#### Defining the path to the data"
   ]
  },
  {
   "cell_type": "code",
   "execution_count": 8,
   "id": "b93d6ad3",
   "metadata": {},
   "outputs": [
    {
     "data": {
      "application/javascript": [
       "\n",
       "            setTimeout(function() {\n",
       "                var nbb_cell_id = 8;\n",
       "                var nbb_unformatted_code = \"path = os.getcwd()\\ndirectory = os.listdir(path)\";\n",
       "                var nbb_formatted_code = \"path = os.getcwd()\\ndirectory = os.listdir(path)\";\n",
       "                var nbb_cells = Jupyter.notebook.get_cells();\n",
       "                for (var i = 0; i < nbb_cells.length; ++i) {\n",
       "                    if (nbb_cells[i].input_prompt_number == nbb_cell_id) {\n",
       "                        if (nbb_cells[i].get_text() == nbb_unformatted_code) {\n",
       "                             nbb_cells[i].set_text(nbb_formatted_code);\n",
       "                        }\n",
       "                        break;\n",
       "                    }\n",
       "                }\n",
       "            }, 500);\n",
       "            "
      ],
      "text/plain": [
       "<IPython.core.display.Javascript object>"
      ]
     },
     "metadata": {},
     "output_type": "display_data"
    }
   ],
   "source": [
    "path = os.getcwd()\n",
    "directory = os.listdir(path)"
   ]
  },
  {
   "cell_type": "markdown",
   "id": "11b7aa1a",
   "metadata": {},
   "source": [
    "#### Opening and processing the data and saving the results"
   ]
  },
  {
   "cell_type": "code",
   "execution_count": 9,
   "id": "e95976de",
   "metadata": {},
   "outputs": [
    {
     "data": {
      "image/png": "[encoded data removed]",
      "text/plain": [
       "<Figure size 432x288 with 1 Axes>"
      ]
     },
     "metadata": {},
     "output_type": "display_data"
    },
    {
     "data": {
      "application/javascript": [
       "\n",
       "            setTimeout(function() {\n",
       "                var nbb_cell_id = 9;\n",
       "                var nbb_unformatted_code = \"for f_ind, file in enumerate(directory):\\n    if file[-4:] == \\\".tsv\\\":\\n        df = pd.read_csv(file, delimiter=\\\"\\\\t\\\", decimal=\\\",\\\", skiprows=[0])\\n        # df = read_file(file)  # Predefined function for opening files\\n        df_1 = speedAndEnergy(df, mass=mass, interval=1)\\n        df_2 = ballDropEnergy(df_1)\\n        for i in range(5):\\n            df_2 = remove_duplicates(df_2)\\n        plot_impact_energy(df_2, file[:-4])\\n        plot_ball_drops(df_1, df_2, file[:-4])\\n        # other code\\n        df_1.to_csv(file[:-4] + \\\"_SPEED_DISTANCE.csv\\\", sep=\\\";\\\", decimal=\\\",\\\")\\n        df_2.to_csv(file[:-4] + \\\"_BALL_DROP.csv\\\", sep=\\\";\\\", decimal=\\\",\\\")\";\n",
       "                var nbb_formatted_code = \"for f_ind, file in enumerate(directory):\\n    if file[-4:] == \\\".tsv\\\":\\n        df = pd.read_csv(file, delimiter=\\\"\\\\t\\\", decimal=\\\",\\\", skiprows=[0])\\n        # df = read_file(file)  # Predefined function for opening files\\n        df_1 = speedAndEnergy(df, mass=mass, interval=1)\\n        df_2 = ballDropEnergy(df_1)\\n        for i in range(5):\\n            df_2 = remove_duplicates(df_2)\\n        plot_impact_energy(df_2, file[:-4])\\n        plot_ball_drops(df_1, df_2, file[:-4])\\n        # other code\\n        df_1.to_csv(file[:-4] + \\\"_SPEED_DISTANCE.csv\\\", sep=\\\";\\\", decimal=\\\",\\\")\\n        df_2.to_csv(file[:-4] + \\\"_BALL_DROP.csv\\\", sep=\\\";\\\", decimal=\\\",\\\")\";\n",
       "                var nbb_cells = Jupyter.notebook.get_cells();\n",
       "                for (var i = 0; i < nbb_cells.length; ++i) {\n",
       "                    if (nbb_cells[i].input_prompt_number == nbb_cell_id) {\n",
       "                        if (nbb_cells[i].get_text() == nbb_unformatted_code) {\n",
       "                             nbb_cells[i].set_text(nbb_formatted_code);\n",
       "                        }\n",
       "                        break;\n",
       "                    }\n",
       "                }\n",
       "            }, 500);\n",
       "            "
      ],
      "text/plain": [
       "<IPython.core.display.Javascript object>"
      ]
     },
     "metadata": {},
     "output_type": "display_data"
    }
   ],
   "source": [
    "for f_ind, file in enumerate(directory):\n",
    "    if file[-4:] == \".tsv\":\n",
    "        df = pd.read_csv(file, delimiter=\"\\t\", decimal=\",\", skiprows=[0])\n",
    "        # df = read_file(file)  # Predefined function for opening files\n",
    "        df_1 = speedAndEnergy(df, mass=mass, interval=1)\n",
    "        df_2 = ballDropEnergy(df_1)\n",
    "        for i in range(5):\n",
    "            df_2 = remove_duplicates(df_2)\n",
    "        plot_impact_energy(df_2, file[:-4])\n",
    "        plot_ball_drops(df_1, df_2, file[:-4])\n",
    "        # other code\n",
    "        df_1.to_csv(file[:-4] + \"_SPEED_DISTANCE.csv\", sep=\";\", decimal=\",\")\n",
    "        df_2.to_csv(file[:-4] + \"_BALL_DROP.csv\", sep=\";\", decimal=\",\")"
   ]
  },
  {
   "cell_type": "code",
   "execution_count": null,
   "id": "94d366b9",
   "metadata": {},
   "outputs": [],
   "source": []
  }
 ],
 "metadata": {
  "kernelspec": {
   "display_name": "Python 3",
   "language": "python",
   "name": "python3"
  },
  "language_info": {
   "codemirror_mode": {
    "name": "ipython",
    "version": 3
   },
   "file_extension": ".py",
   "mimetype": "text/x-python",
   "name": "python",
   "nbconvert_exporter": "python",
   "pygments_lexer": "ipython3",
   "version": "3.8.8"
  }
 },
 "nbformat": 4,
 "nbformat_minor": 5
}
